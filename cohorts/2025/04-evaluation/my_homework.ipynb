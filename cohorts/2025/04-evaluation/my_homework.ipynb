{
 "cells": [
  {
   "cell_type": "code",
   "execution_count": 9,
   "id": "e6d64429",
   "metadata": {},
   "outputs": [],
   "source": [
    "import pandas as pd\n",
    "import numpy as np\n",
    "from sklearn.model_selection import train_test_split\n",
    "from sklearn.metrics import roc_auc_score, roc_curve, RocCurveDisplay\n",
    "from sklearn.linear_model import LogisticRegression\n",
    "from sklearn.feature_extraction import DictVectorizer\n",
    "import matplotlib.pyplot as plt\n",
    "import seaborn as sns"
   ]
  },
  {
   "cell_type": "markdown",
   "metadata": {},
   "source": [
    "# Homework\n",
    "\n",
    "> Note: sometimes your answer doesn't match one of \n",
    "> the options exactly. That's fine. \n",
    "> Select the option that's closest to your solution.\n",
    "\n",
    "In this homework, we will use the lead scoring dataset. Download it from [here](https://raw.githubusercontent.com/alexeygrigorev/datasets/master/course_lead_scoring.csv).\n",
    "\n",
    "\n",
    "In this dataset our desired target for classification task will be `converted` variable - has the client signed up to the platform or not. "
   ]
  },
  {
   "cell_type": "code",
   "execution_count": 10,
   "id": "34542da2",
   "metadata": {},
   "outputs": [
    {
     "name": "stdout",
     "output_type": "stream",
     "text": [
      "--2025-10-21 21:48:53--  https://raw.githubusercontent.com/alexeygrigorev/datasets/master/course_lead_scoring.csv\n",
      "Resolving raw.githubusercontent.com (raw.githubusercontent.com)... 2606:50c0:8003::154, 2606:50c0:8000::154, 2606:50c0:8001::154, ...\n",
      "Connecting to raw.githubusercontent.com (raw.githubusercontent.com)|2606:50c0:8003::154|:443... connected.\n",
      "HTTP request sent, awaiting response... 200 OK\n",
      "Length: 80876 (79K) [text/plain]\n",
      "Saving to: ‘course_lead_scoring.csv’\n",
      "\n",
      "course_lead_scoring 100%[===================>]  78,98K  --.-KB/s    in 0,04s   \n",
      "\n",
      "2025-10-21 21:48:53 (2,10 MB/s) - ‘course_lead_scoring.csv’ saved [80876/80876]\n",
      "\n"
     ]
    }
   ],
   "source": [
    "# seed\n",
    "SEED = 1\n",
    "\n",
    "# download\n",
    "csv_file_name = \"course_lead_scoring.csv\"\n",
    "!wget -O {csv_file_name} https://raw.githubusercontent.com/alexeygrigorev/datasets/master/course_lead_scoring.csv"
   ]
  },
  {
   "cell_type": "markdown",
   "id": "29979ab1",
   "metadata": {},
   "source": [
    "## Data preparation\n",
    "\n",
    "* Check if the missing values are presented in the features.\n",
    "* If there are missing values:\n",
    "    * For caterogiral features, replace them with 'NA'\n",
    "    * For numerical features, replace with with 0.0 \n",
    "\n",
    "Split the data into 3 parts: train/validation/test with 60%/20%/20% distribution. Use `train_test_split` function for that with `random_state=1`"
   ]
  },
  {
   "cell_type": "code",
   "execution_count": null,
   "metadata": {},
   "outputs": [
    {
     "name": "stdout",
     "output_type": "stream",
     "text": [
      "relative sizes train, val, test: [0.59917921 0.2004104  0.2004104 ]\n"
     ]
    }
   ],
   "source": [
    "# load into panda\n",
    "df = pd.read_csv(csv_file_name)\n",
    "target = \"converted\"\n",
    "\n",
    "# create list of categorical and numerical features\n",
    "categorical_features = df.select_dtypes(\n",
    "    include=[\"object\", \"category\", \"bool\"]\n",
    ").columns.tolist()\n",
    "numerical_features = df.select_dtypes(include=[\"int64\", \"float64\"]).columns.tolist()\n",
    "if target in categorical_features:\n",
    "    categorical_features.remove(target)\n",
    "elif target in numerical_features:\n",
    "    numerical_features.remove(target)\n",
    "\n",
    "df[categorical_features] = df[categorical_features].fillna(\"NA\")\n",
    "df[numerical_features] = df[numerical_features].fillna(0.0)\n",
    "\n",
    "# sanity check\n",
    "if len(df.columns) - len(categorical_features) - len(numerical_features) - 1 != 0:\n",
    "    raise RuntimeWarning(\"Something is off with the number of columns\")\n",
    "\n",
    "\n",
    "def my_split(df, target, test_size, val_size, seed=SEED):\n",
    "    df_full_train, df_test = train_test_split(\n",
    "        df, test_size=test_size, random_state=seed\n",
    "    )\n",
    "    df_train, df_val = train_test_split(\n",
    "        df_full_train, test_size=val_size / (1 - test_size), random_state=seed\n",
    "    )\n",
    "    # train, val, test\n",
    "    return (\n",
    "        df_train.drop(columns=[target]),\n",
    "        df_train[target].values,\n",
    "        df_val.drop(columns=[target]),\n",
    "        df_val[target].values,\n",
    "        df_test.drop(columns=[target]),\n",
    "        df_test[target].values,\n",
    "    )\n",
    "\n",
    "\n",
    "df_train, y_train, df_val, y_val, df_test, y_test = my_split(df, target, 0.2, 0.2)\n",
    "\n",
    "# sanity check\n",
    "print(\n",
    "    f\"relative sizes train, val, test: {np.array([len(df_train), len(df_val), len(df_test)]) / (len(df_train) + len(df_val) + len(df_test))}\"\n",
    ")"
   ]
  },
  {
   "cell_type": "code",
   "execution_count": 12,
   "id": "16611c18",
   "metadata": {},
   "outputs": [
    {
     "data": {
      "text/plain": [
       "(876, 293, 293)"
      ]
     },
     "execution_count": 12,
     "metadata": {},
     "output_type": "execute_result"
    }
   ],
   "source": [
    "len(df_train), len(df_val), len(df_test)"
   ]
  },
  {
   "cell_type": "code",
   "execution_count": 13,
   "id": "39338032",
   "metadata": {},
   "outputs": [
    {
     "data": {
      "text/plain": [
       "lead_source                 0\n",
       "industry                    0\n",
       "number_of_courses_viewed    0\n",
       "annual_income               0\n",
       "employment_status           0\n",
       "location                    0\n",
       "interaction_count           0\n",
       "lead_score                  0\n",
       "converted                   0\n",
       "dtype: int64"
      ]
     },
     "execution_count": 13,
     "metadata": {},
     "output_type": "execute_result"
    }
   ],
   "source": [
    "df.isna().sum()"
   ]
  },
  {
   "cell_type": "markdown",
   "metadata": {},
   "source": [
    "## Question 1: ROC AUC feature importance\n",
    "\n",
    "ROC AUC could also be used to evaluate feature importance of numerical variables. \n",
    "\n",
    "Let's do that\n",
    "\n",
    "* For each numerical variable, use it as score (aka prediction) and compute the AUC with the `y` variable as ground truth.\n",
    "* Use the training dataset for that\n",
    "\n",
    "\n",
    "If your AUC is < 0.5, invert this variable by putting \"-\" in front\n",
    "\n",
    "(e.g. `-df_train['balance']`)\n",
    "\n",
    "AUC can go below 0.5 if the variable is negatively correlated with the target variable. You can change the direction of the correlation by negating this variable - then negative correlation becomes positive."
   ]
  },
  {
   "cell_type": "code",
   "execution_count": 14,
   "metadata": {},
   "outputs": [
    {
     "data": {
      "text/plain": [
       "{'number_of_courses_viewed': 0.7635680590007088,\n",
       " 'interaction_count': 0.738270176293409,\n",
       " 'lead_score': 0.6144993577250176,\n",
       " 'annual_income': 0.5519578313253012}"
      ]
     },
     "execution_count": 14,
     "metadata": {},
     "output_type": "execute_result"
    }
   ],
   "source": [
    "feature_scores = {}\n",
    "for variable in numerical_features:\n",
    "    roc_score = roc_auc_score(y_train, df_train[variable].values)\n",
    "    roc_score = 1 - roc_score if roc_score < 0.5 else roc_score\n",
    "    feature_scores[variable] = roc_score\n",
    "\n",
    "dict(sorted(feature_scores.items(), key=lambda item: item[1], reverse=True))"
   ]
  },
  {
   "cell_type": "markdown",
   "id": "67b977c1",
   "metadata": {},
   "source": [
    "Which numerical variable (among the following 4) has the highest AUC?\n",
    "\n",
    "- `lead_score`\n",
    "- **`number_of_courses_viewed`**\n",
    "- `interaction_count`\n",
    "- `annual_income`"
   ]
  },
  {
   "cell_type": "markdown",
   "metadata": {},
   "source": [
    "## Question 2: Training the model\n",
    "\n",
    "Apply one-hot-encoding using `DictVectorizer` and train the logistic regression with these parameters:\n",
    "\n",
    "```python\n",
    "LogisticRegression(solver='liblinear', C=1.0, max_iter=1000)\n",
    "```"
   ]
  },
  {
   "cell_type": "code",
   "execution_count": 22,
   "metadata": {},
   "outputs": [
    {
     "name": "stdout",
     "output_type": "stream",
     "text": [
      "roc is 0.817\n"
     ]
    }
   ],
   "source": [
    "def train(df, y, C=1.0, seed=SEED):\n",
    "\n",
    "    dv = DictVectorizer(sparse=False)\n",
    "    dicts = df.to_dict(orient=\"records\")\n",
    "    X_train = dv.fit_transform(dicts)\n",
    "\n",
    "    model = LogisticRegression(\n",
    "        solver=\"liblinear\",\n",
    "        C=C,\n",
    "        max_iter=1000,\n",
    "        random_state=seed,\n",
    "    )\n",
    "    model.fit(X_train, y)\n",
    "\n",
    "    return dv, model\n",
    "\n",
    "\n",
    "def predict(df, dv, model):\n",
    "    dicts = df.to_dict(orient=\"records\")\n",
    "\n",
    "    X = dv.transform(dicts)\n",
    "    y_pred = model.predict_proba(X)[:, 1]\n",
    "\n",
    "    return y_pred\n",
    "\n",
    "\n",
    "dv, model = train(df_train, y_train)\n",
    "y_pred = predict(df_val, dv, model)\n",
    "\n",
    "roc = roc_auc_score(y_val, y_pred)\n",
    "\n",
    "print(f\"roc is {roc:.3f}\")"
   ]
  },
  {
   "cell_type": "markdown",
   "id": "01b693e5",
   "metadata": {},
   "source": [
    "What's the AUC of this model on the validation dataset? (round to 3 digits)\n",
    "\n",
    "- 0.32\n",
    "- 0.52\n",
    "- 0.72\n",
    "- 0.92"
   ]
  },
  {
   "cell_type": "markdown",
   "id": "ee79db9d",
   "metadata": {},
   "source": [
    "Hmmm... this looks bad. The computed roc-auc score is pretty much between the two options 0.72 and 0.92.\n",
    "Let's plot the normal roc to see if anything fishy is going on"
   ]
  },
  {
   "cell_type": "code",
   "execution_count": 23,
   "id": "a4da05be",
   "metadata": {},
   "outputs": [
    {
     "data": {
      "image/png": "[encoded data removed]",
      "text/plain": [
       "<Figure size 640x480 with 1 Axes>"
      ]
     },
     "metadata": {},
     "output_type": "display_data"
    }
   ],
   "source": [
    "fpr, tpr, thresholds = roc_curve(y_val, y_pred)\n",
    "roc_display = RocCurveDisplay(fpr=fpr, tpr=tpr, roc_auc=roc)\n",
    "roc_display.plot()\n",
    "plt.show()"
   ]
  },
  {
   "cell_type": "markdown",
   "id": "0cf097b1",
   "metadata": {},
   "source": [
    "Nah, can't seem to see anything fishy in there. Next, let's see if I screwed the seed up somehow. For that I make a histogram of the roc-auc for a bunch of seeds."
   ]
  },
  {
   "cell_type": "code",
   "execution_count": 31,
   "id": "272ce8e1",
   "metadata": {},
   "outputs": [],
   "source": [
    "rocs = []\n",
    "for seed in range(0, 9000):\n",
    "    df_t, y_t, df_v, y_v, _, _ = my_split(df, target, 0.2, 0.2, seed=seed)\n",
    "    dv, model = train(df_t, y_t, seed=seed)\n",
    "    y_p = predict(df_v, dv, model)\n",
    "    rocs.append(roc_auc_score(y_v, y_p))"
   ]
  },
  {
   "cell_type": "code",
   "execution_count": 32,
   "id": "132179fa",
   "metadata": {},
   "outputs": [
    {
     "name": "stdout",
     "output_type": "stream",
     "text": [
      "min 0.7279368790181182, mean 0.8225262057195464,  max 0.9155440414507772\n"
     ]
    },
    {
     "data": {
      "image/png": "[encoded data removed]",
      "text/plain": [
       "<Figure size 640x480 with 1 Axes>"
      ]
     },
     "metadata": {},
     "output_type": "display_data"
    }
   ],
   "source": [
    "sns.histplot(rocs)\n",
    "rocs = np.array(rocs)\n",
    "print(f\"min {rocs.min()}, mean {rocs.mean()},  max {rocs.max()}\")"
   ]
  },
  {
   "cell_type": "markdown",
   "id": "45643d68",
   "metadata": {},
   "source": [
    "Damit. This doesn't tell me much either. The mean is very close to the middle. and the min or max are both greater and smaller than 0.72 and 0.92.\n",
    "\n",
    "So at this point I can just guess, and I take 0.92 because the data is a tiny tiny bit in favour for it."
   ]
  },
  {
   "cell_type": "markdown",
   "metadata": {},
   "source": [
    "## Question 3: Precision and Recall\n",
    "\n",
    "Now let's compute precision and recall for our model.\n",
    "\n",
    "* Evaluate the model on all thresholds from 0.0 to 1.0 with step 0.01\n",
    "* For each threshold, compute precision and recall\n",
    "* Plot them"
   ]
  },
  {
   "cell_type": "code",
   "execution_count": null,
   "id": "07c0a2d2",
   "metadata": {},
   "outputs": [
    {
     "name": "stdout",
     "output_type": "stream",
     "text": [
      "0.64\n"
     ]
    },
    {
     "data": {
      "image/png": "[encoded data removed]",
      "text/plain": [
       "<Figure size 640x480 with 1 Axes>"
      ]
     },
     "metadata": {},
     "output_type": "display_data"
    }
   ],
   "source": [
    "def precision_recall_curve(y_pred, v_val):\n",
    "\n",
    "    thresholds = np.arange(0.0, 1.0, 0.01)\n",
    "    precisions = np.zeros(len(thresholds))  # precision = TP/(TP + FP)\n",
    "    recalls = np.zeros(len(thresholds))  # recall = TP/(TP + FN)\n",
    "\n",
    "    for i, t in enumerate(thresholds):\n",
    "        predicts = y_pred >= t\n",
    "\n",
    "        tp = (predicts & (y_val == 1)).sum()\n",
    "        tn = (~predicts & (y_val == 0)).sum()\n",
    "\n",
    "        fp = (predicts & (y_val == 0)).sum()\n",
    "        fn = (~predicts & (y_val == 1)).sum()\n",
    "\n",
    "        precision = tp / (tp + fp) if tp + fp > 0 else np.nan\n",
    "        recall = tp / (tp + fn)\n",
    "\n",
    "        precisions[i] = precision\n",
    "        recalls[i] = recall\n",
    "\n",
    "    # Find the threshold where precision and recall are closest\n",
    "    diff = np.abs(precisions - recalls)\n",
    "    closest_threshold_idx = np.nanargmin(diff)\n",
    "    closest_threshold = thresholds[closest_threshold_idx]\n",
    "\n",
    "    return thresholds, precisions, recalls, closest_threshold\n",
    "\n",
    "\n",
    "thresholds, precisions, recalls, closest_threshold = precision_recall_curve(\n",
    "    y_pred, y_val\n",
    ")\n",
    "\n",
    "plt.plot(thresholds, precisions, label=\"Precision\")\n",
    "plt.plot(thresholds, recalls, label=\"Recall\")\n",
    "plt.axvline(\n",
    "    x=closest_threshold,\n",
    "    color=\"red\",\n",
    "    linestyle=\"--\",\n",
    "    label=f\"Threshold = {closest_threshold:.2f}\",\n",
    ")\n",
    "plt.legend()\n",
    "\n",
    "print(closest_threshold)"
   ]
  },
  {
   "cell_type": "markdown",
   "id": "41bfeeaa",
   "metadata": {},
   "source": [
    "At which threshold precision and recall curves intersect?\n",
    "\n",
    "* 0.145\n",
    "* 0.345\n",
    "* 0.545\n",
    "* 0.745"
   ]
  },
  {
   "cell_type": "markdown",
   "id": "006727f8",
   "metadata": {},
   "source": [
    "Yei :/ We are in the middle again.\n",
    "\n",
    "Ok, let's see if plotting a histogram will help with the decision."
   ]
  },
  {
   "cell_type": "code",
   "execution_count": 83,
   "id": "db4d54b8",
   "metadata": {},
   "outputs": [],
   "source": [
    "closest_thresholds = []\n",
    "for seed in range(0, 5000):\n",
    "    df_t, y_t, df_v, y_v, _, _ = my_split(df, target, 0.2, 0.2, seed=seed)\n",
    "    dv, model = train(df_t, y_t, seed=seed)\n",
    "    y_p = predict(df_v, dv, model)\n",
    "    _, _, _, closest_threshold = precision_recall_curve(y_p, y_v)\n",
    "    closest_thresholds.append(closest_threshold)"
   ]
  },
  {
   "cell_type": "code",
   "execution_count": 93,
   "id": "aded1dfe",
   "metadata": {},
   "outputs": [
    {
     "data": {
      "text/plain": [
       "<Axes: ylabel='Count'>"
      ]
     },
     "execution_count": 93,
     "metadata": {},
     "output_type": "execute_result"
    },
    {
     "data": {
      "image/png": "[encoded data removed]",
      "text/plain": [
       "<Figure size 640x480 with 1 Axes>"
      ]
     },
     "metadata": {},
     "output_type": "display_data"
    }
   ],
   "source": [
    "sns.histplot(closest_thresholds, bins=80, kde=True)"
   ]
  },
  {
   "cell_type": "markdown",
   "id": "d6b0be46",
   "metadata": {},
   "source": [
    "Wieder nicht schlauer. Der spike rechts sind fälle in denen der sich die Graphen sich zweimal schneidet und der zweite Schnittpunkt genommen wird. Wie unten"
   ]
  },
  {
   "cell_type": "code",
   "execution_count": 85,
   "id": "f68ec824",
   "metadata": {},
   "outputs": [
    {
     "data": {
      "text/plain": [
       "<matplotlib.legend.Legend at 0x7e3e74670350>"
      ]
     },
     "execution_count": 85,
     "metadata": {},
     "output_type": "execute_result"
    },
    {
     "data": {
      "image/png": "[encoded data removed]",
      "text/plain": [
       "<Figure size 640x480 with 1 Axes>"
      ]
     },
     "metadata": {},
     "output_type": "display_data"
    }
   ],
   "source": [
    "df_t, y_t, df_v, y_v, _, _ = my_split(df, target, 0.2, 0.2, seed=19)\n",
    "dv, model = train(df_t, y_t, seed=seed)\n",
    "y_p = predict(df_v, dv, model)\n",
    "\n",
    "thresholds, precisions, recalls, closest_threshold = precision_recall_curve(y_p, y_v)\n",
    "\n",
    "plt.plot(thresholds, precisions, label=\"Precision\")\n",
    "plt.plot(thresholds, recalls, label=\"Recall\")\n",
    "plt.axvline(\n",
    "    x=closest_threshold,\n",
    "    color=\"red\",\n",
    "    linestyle=\"--\",\n",
    "    label=f\"Threshold = {closest_threshold:.2f}\",\n",
    ")\n",
    "plt.legend()"
   ]
  },
  {
   "cell_type": "markdown",
   "id": "2064ba75",
   "metadata": {},
   "source": [
    "Was wir also machen können ist abschneiden und dann wieder die Statistiken nach einen Trend anschauen."
   ]
  },
  {
   "cell_type": "code",
   "execution_count": null,
   "id": "cb418dde",
   "metadata": {},
   "outputs": [
    {
     "name": "stdout",
     "output_type": "stream",
     "text": [
      "min 0.58, mean 0.6321655024180548,  max 0.6900000000000001\n"
     ]
    }
   ],
   "source": [
    "closest_thresholds = np.array(closest_thresholds)\n",
    "filtered_thresholds = closest_thresholds[closest_thresholds <= 0.77]\n",
    "print(\n",
    "    f\"min {filtered_thresholds.min()}, mean {filtered_thresholds.mean()},  max {filtered_thresholds.max()}\"\n",
    ")"
   ]
  },
  {
   "cell_type": "markdown",
   "id": "b0787b6e",
   "metadata": {},
   "source": [
    "Die Statistik sieht s besser als 0.545 etwas besser als 0.745."
   ]
  },
  {
   "cell_type": "markdown",
   "metadata": {},
   "source": [
    "## Question 4: F1 score\n",
    "\n",
    "Precision and recall are conflicting - when one grows, the other goes down. That's why they are often combined into the F1 score - a metrics that takes into account both\n",
    "\n",
    "This is the formula for computing F1:\n",
    "\n",
    "$$F_1 = 2 \\cdot \\cfrac{P \\cdot R}{P + R}$$\n",
    "\n",
    "Where $P$ is precision and $R$ is recall.\n",
    "\n",
    "Let's compute F1 for all thresholds from 0.0 to 1.0 with increment 0.01\n"
   ]
  },
  {
   "cell_type": "code",
   "execution_count": 100,
   "metadata": {},
   "outputs": [
    {
     "name": "stdout",
     "output_type": "stream",
     "text": [
      "0.5700000000000001\n"
     ]
    },
    {
     "data": {
      "image/png": "[encoded data removed]",
      "text/plain": [
       "<Figure size 640x480 with 1 Axes>"
      ]
     },
     "metadata": {},
     "output_type": "display_data"
    }
   ],
   "source": [
    "def f1_curve(y_pred, v_val):\n",
    "\n",
    "    thresholds, precisions, recalls, _ = precision_recall_curve(y_pred, y_val)\n",
    "\n",
    "    f1s = 2 * precisions * recalls / (precisions + recalls)\n",
    "    max_f1_index = np.nanargmax(f1s)\n",
    "    max_threshold = thresholds[max_f1_index]\n",
    "\n",
    "    return thresholds, f1s, max_threshold\n",
    "\n",
    "\n",
    "thresholds, f1s, max_threshold = f1_curve(y_pred, y_val)\n",
    "\n",
    "plt.plot(thresholds, f1s, label=\"F1\")\n",
    "plt.axvline(\n",
    "    x=max_threshold,\n",
    "    color=\"red\",\n",
    "    linestyle=\"--\",\n",
    "    label=f\"Threshold = {max_threshold:.2f}\",\n",
    ")\n",
    "plt.legend()\n",
    "\n",
    "print(max_threshold)"
   ]
  },
  {
   "cell_type": "markdown",
   "id": "83f8f39f",
   "metadata": {},
   "source": [
    "At which threshold F1 is maximal?\n",
    "\n",
    "- 0.14\n",
    "- 0.34\n",
    "- **0.54**\n",
    "- 0.74"
   ]
  },
  {
   "cell_type": "markdown",
   "id": "481098ff",
   "metadata": {},
   "source": [
    "### Question 5: 5-Fold CV\n",
    "\n",
    "\n",
    "Use the `KFold` class from Scikit-Learn to evaluate our model on 5 different folds:\n",
    "\n",
    "```\n",
    "KFold(n_splits=5, shuffle=True, random_state=1)\n",
    "```\n",
    "\n",
    "* Iterate over different folds of `df_full_train`\n",
    "* Split the data into train and validation\n",
    "* Train the model on train with these parameters: `LogisticRegression(solver='liblinear', C=1.0, max_iter=1000)`\n",
    "* Use AUC to evaluate the model on validation"
   ]
  },
  {
   "cell_type": "code",
   "execution_count": 109,
   "id": "ce477692",
   "metadata": {},
   "outputs": [
    {
     "name": "stdout",
     "output_type": "stream",
     "text": [
      "mean: 0.83, std: 0.0302\n"
     ]
    }
   ],
   "source": [
    "from sklearn.model_selection import KFold\n",
    "\n",
    "df_full_train, df_test = train_test_split(df, test_size=0.2, random_state=seed)\n",
    "y_full_train = df_full_train[target].values\n",
    "df_full_train = df_full_train.drop(columns=[target])\n",
    "\n",
    "kfold = KFold(n_splits=5, shuffle=True, random_state=SEED)\n",
    "aucs = []\n",
    "for train_idx, val_idx in kfold.split(df_full_train):\n",
    "    df_train = df_full_train.iloc[train_idx]\n",
    "    df_val = df_full_train.iloc[val_idx]\n",
    "\n",
    "    y_train = y_full_train[train_idx]\n",
    "    y_val = y_full_train[val_idx]\n",
    "\n",
    "    dv, model = train(df_train, y_train)\n",
    "    p_predict = predict(df_val, dv, model)\n",
    "\n",
    "    aucs.append(roc_auc_score(y_val, p_predict))\n",
    "\n",
    "print(f\"mean: {np.mean(aucs):.2f}, std: {np.std(aucs):.3}\")"
   ]
  },
  {
   "cell_type": "markdown",
   "id": "df019f84",
   "metadata": {},
   "source": [
    "How large is standard deviation of the scores across different folds?\n",
    "\n",
    "- 0.0001\n",
    "- 0.006\n",
    "- **0.06**\n",
    "- 0.36"
   ]
  },
  {
   "cell_type": "markdown",
   "id": "1e1969cc",
   "metadata": {},
   "source": [
    "### Question 6: Hyperparameter Tuning\n",
    "\n",
    "Now let's use 5-Fold cross-validation to find the best parameter `C`\n",
    "\n",
    "* Iterate over the following `C` values: `[0.000001, 0.001, 1]`\n",
    "* Initialize `KFold` with the same parameters as previously\n",
    "* Use these parameters for the model: `LogisticRegression(solver='liblinear', C=C, max_iter=1000)`\n",
    "* Compute the mean score as well as the std (round the mean and std to 3 decimal digits)"
   ]
  },
  {
   "cell_type": "code",
   "execution_count": 110,
   "id": "91bba228",
   "metadata": {},
   "outputs": [
    {
     "name": "stdout",
     "output_type": "stream",
     "text": [
      "C: 1e-06, mean: 0.547, std: 0.051\n",
      "C: 0.001, mean: 0.871, std: 0.018\n",
      "C: 1, mean: 0.832, std: 0.030\n"
     ]
    }
   ],
   "source": [
    "Cs = [0.000001, 0.001, 1]\n",
    "\n",
    "for C in Cs:\n",
    "    kfold = KFold(n_splits=5, shuffle=True, random_state=1)\n",
    "\n",
    "    aucs = []\n",
    "    for train_idx, val_idx in kfold.split(df_full_train):\n",
    "        df_train = df_full_train.iloc[train_idx]\n",
    "        df_val = df_full_train.iloc[val_idx]\n",
    "\n",
    "        y_train = y_full_train[train_idx]\n",
    "        y_val = y_full_train[val_idx]\n",
    "\n",
    "        dv, model = train(df_train, y_train, C=C)\n",
    "        p_predict = predict(df_val, dv, model)\n",
    "\n",
    "        aucs.append(roc_auc_score(y_val, p_predict))\n",
    "\n",
    "    print(f\"C: {C}, mean: {np.mean(aucs):.3f}, std: {np.std(aucs):.3f}\")"
   ]
  },
  {
   "cell_type": "markdown",
   "id": "53834462",
   "metadata": {},
   "source": [
    "Which `C` leads to the best mean score?\n",
    "\n",
    "- 0.000001\n",
    "- **0.001**\n",
    "- 1\n",
    "\n",
    "If you have ties, select the score with the lowest std. If you still have ties, select the smallest `C`."
   ]
  },
  {
   "cell_type": "markdown",
   "metadata": {},
   "source": [
    "---\n",
    "\n",
    "## Submit the results\n",
    "\n",
    "* Submit your results here: https://courses.datatalks.club/ml-zoomcamp-2025/homework/hw04\n",
    "* If your answer doesn't match options exactly, select the closest one"
   ]
  }
 ],
 "metadata": {
  "kernelspec": {
   "display_name": "venv (3.12.3)",
   "language": "python",
   "name": "python3"
  },
  "language_info": {
   "codemirror_mode": {
    "name": "ipython",
    "version": 3
   },
   "file_extension": ".py",
   "mimetype": "text/x-python",
   "name": "python",
   "nbconvert_exporter": "python",
   "pygments_lexer": "ipython3",
   "version": "3.12.3"
  }
 },
 "nbformat": 4,
 "nbformat_minor": 5
}
