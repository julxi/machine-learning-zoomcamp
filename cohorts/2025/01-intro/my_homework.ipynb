{
  "cells": [
    {
      "cell_type": "markdown",
      "metadata": {},
      "source": [
        "# Homework\n",
        "## Set up the environment\n",
        "You need to install Python, NumPy, Pandas, Matplotlib and Seaborn. For that, you can use the instructions from [06-environment.md](../../../01-intro/06-environment.md)."
      ]
    },
    {
      "cell_type": "markdown",
      "metadata": {},
      "source": [
        "## Q1. Pandas version\n",
        "What's the version of Pandas that you installed?\n",
        "You can get the version information using the `__version__` field:"
      ]
    },
    {
      "cell_type": "code",
      "execution_count": 14,
      "metadata": {},
      "outputs": [
        {
          "name": "stdout",
          "output_type": "stream",
          "text": [
            "2.3.0\n"
          ]
        }
      ],
      "source": [
        "import pandas as pd\n",
        "\n",
        "print(pd.__version__)"
      ]
    },
    {
      "cell_type": "markdown",
      "metadata": {},
      "source": [
        "## Getting the data\n",
        "For this homework, we'll use the Car Fuel Efficiency dataset. Download it from [here](https://raw.githubusercontent.com/alexeygrigorev/datasets/master/car_fuel_efficiency.csv)."
      ]
    },
    {
      "cell_type": "code",
      "execution_count": 15,
      "metadata": {},
      "outputs": [
        {
          "name": "stdout",
          "output_type": "stream",
          "text": [
            "--2025-09-24 16:30:05--  https://raw.githubusercontent.com/alexeygrigorev/datasets/master/car_fuel_efficiency.csv\n",
            "Resolving raw.githubusercontent.com (raw.githubusercontent.com)... 185.199.109.133, 185.199.111.133, 185.199.108.133, ...\n",
            "Connecting to raw.githubusercontent.com (raw.githubusercontent.com)|185.199.109.133|:443... connected.\n",
            "HTTP request sent, awaiting response... 200 OK\n",
            "Length: 874188 (854K) [text/plain]\n",
            "Saving to: ‘car_fuel_efficiency.csv.3’\n",
            "\n",
            "car_fuel_efficiency 100%[===================>] 853,70K  --.-KB/s    in 0,1s    \n",
            "\n",
            "2025-09-24 16:30:05 (7,89 MB/s) - ‘car_fuel_efficiency.csv.3’ saved [874188/874188]\n",
            "\n"
          ]
        }
      ],
      "source": [
        "!wget https://raw.githubusercontent.com/alexeygrigorev/datasets/master/car_fuel_efficiency.csv\n",
        "\n",
        "import pandas as pd\n",
        "df = pd.read_csv('car_fuel_efficiency.csv')"
      ]
    },
    {
      "cell_type": "markdown",
      "metadata": {},
      "source": [
        "## Q2. Records count\n",
        "How many records are in the dataset?\n",
        "- 4704\n",
        "- 8704\n",
        "- 9704\n",
        "- 17704"
      ]
    },
    {
      "cell_type": "code",
      "execution_count": 16,
      "metadata": {},
      "outputs": [
        {
          "name": "stdout",
          "output_type": "stream",
          "text": [
            "9704\n"
          ]
        }
      ],
      "source": [
        "print(len(df))"
      ]
    },
    {
      "cell_type": "markdown",
      "metadata": {},
      "source": [
        "## Q3. Fuel types\n",
        "How many fuel types are presented in the dataset?\n",
        "- 1\n",
        "- 2\n",
        "- 3\n",
        "- 4"
      ]
    },
    {
      "cell_type": "code",
      "execution_count": 17,
      "metadata": {},
      "outputs": [
        {
          "name": "stdout",
          "output_type": "stream",
          "text": [
            "2\n"
          ]
        }
      ],
      "source": [
        "print(df[\"fuel_type\"].nunique())"
      ]
    },
    {
      "cell_type": "markdown",
      "metadata": {},
      "source": [
        "## Q4. Missing values\n",
        "How many columns in the dataset have missing values?\n",
        "- 0\n",
        "- 1\n",
        "- 2\n",
        "- 3\n",
        "- 4"
      ]
    },
    {
      "cell_type": "code",
      "execution_count": 18,
      "metadata": {},
      "outputs": [
        {
          "name": "stdout",
          "output_type": "stream",
          "text": [
            "4\n"
          ]
        }
      ],
      "source": [
        "print(df.isnull().any().sum())"
      ]
    },
    {
      "cell_type": "markdown",
      "metadata": {},
      "source": [
        "## Q5. Max fuel efficiency\n",
        "What's the maximum fuel efficiency of cars from Asia?\n",
        "- 13.75\n",
        "- 23.75\n",
        "- 33.75\n",
        "- 43.75"
      ]
    },
    {
      "cell_type": "code",
      "execution_count": 19,
      "metadata": {},
      "outputs": [
        {
          "name": "stdout",
          "output_type": "stream",
          "text": [
            "23.759122836520497\n"
          ]
        }
      ],
      "source": [
        "asia_cars = df[df[\"origin\"] == \"Asia\"]\n",
        "print(asia_cars[\"fuel_efficiency_mpg\"].max())"
      ]
    },
    {
      "cell_type": "markdown",
      "metadata": {},
      "source": [
        "## Q6. Median value of horsepower\n",
        "1. Find the median value of `horsepower` column in the dataset.\n",
        "2. Next, calculate the most frequent value of the same `horsepower` column.\n",
        "3. Use `fillna` method to fill the missing values in `horsepower` column with the most frequent value from the previous step.\n",
        "4. Now, calculate the median value of `horsepower` once again.\n",
        "Has it changed?\n",
        "- Yes, it increased\n",
        "- Yes, it decreased\n",
        "- No"
      ]
    },
    {
      "cell_type": "code",
      "execution_count": null,
      "metadata": {},
      "outputs": [
        {
          "name": "stdout",
          "output_type": "stream",
          "text": [
            "Initial median horsepower: 149.0\n",
            "Most frequent horsepower: 152.0\n",
            "New median horsepower: 152.0\n",
            "Has it changed? Yes, it decreased\n"
          ]
        }
      ],
      "source": [
        "horsepower_copy = df[\"horsepower\"].copy()\n",
        "median_horsepower = horsepower_copy.median()\n",
        "print(\"Initial median horsepower:\", median_horsepower)\n",
        "\n",
        "most_frequent_horsepower = horsepower_copy.mode()[0]\n",
        "print(\"Most frequent horsepower:\", most_frequent_horsepower)\n",
        "\n",
        "horsepower_filled = horsepower_copy.fillna(most_frequent_horsepower)\n",
        "new_median_horsepower = horsepower_filled.median()\n",
        "print(\"New median horsepower:\", new_median_horsepower)\n",
        "print(\n",
        "    \"Has it changed?\",\n",
        "    (\n",
        "        \"Yes, it increased\"\n",
        "        if new_median_horsepower > median_horsepower\n",
        "        else \"Yes, it decreased\" if new_median_horsepower < median_horsepower else \"No\"\n",
        "    ),\n",
        ")"
      ]
    },
    {
      "cell_type": "markdown",
      "metadata": {},
      "source": [
        "## Q7. Sum of weights\n",
        "1. Select all the cars from Asia\n",
        "2. Select only columns `vehicle_weight` and `model_year`\n",
        "3. Select the first 7 values\n",
        "4. Get the underlying NumPy array. Let's call it `X`.\n",
        "5. Compute matrix-matrix multiplication between the transpose of `X` and `X`. To get the transpose, use `X.T`. Let's call the result `XTX`.\n",
        "6. Invert `XTX`.\n",
        "7. Create an array `y` with values `[1100, 1300, 800, 900, 1000, 1100, 1200]`.\n",
        "8. Multiply the inverse of `XTX` with the transpose of `X`, and then multiply the result by `y`. Call the result `w`.\n",
        "9. What's the sum of all the elements of the result?"
      ]
    },
    {
      "cell_type": "code",
      "execution_count": null,
      "metadata": {},
      "outputs": [
        {
          "name": "stdout",
          "output_type": "stream",
          "text": [
            "Sum of all elements of w: 0.5187709081074016\n"
          ]
        }
      ],
      "source": [
        "import numpy as np\n",
        "\n",
        "X = df[df[\"origin\"] == \"Asia\"][[\"vehicle_weight\", \"model_year\"]].head(7).to_numpy()\n",
        "XTX = X.T @ X\n",
        "XTX_inv = np.linalg.inv(XTX)\n",
        "y = np.array([1100, 1300, 800, 900, 1000, 1100, 1200])\n",
        "w = XTX_inv @ X.T @ y\n",
        "print(\"Sum of all elements of w:\", np.sum(w))"
      ]
    },
    {
      "cell_type": "markdown",
      "metadata": {},
      "source": [
        "## Submit the results\n",
        "* Submit your results here: https://courses.datatalks.club/ml-zoomcamp-2025/homework/hw01\n",
        "* If your answer doesn't match options exactly, select the closest one"
      ]
    }
  ],
  "metadata": {
    "kernelspec": {
      "display_name": "venv (3.12.3)",
      "language": "python",
      "name": "python3"
    },
    "language_info": {
      "codemirror_mode": {
        "name": "ipython",
        "version": 3
      },
      "file_extension": ".py",
      "mimetype": "text/x-python",
      "name": "python",
      "nbconvert_exporter": "python",
      "pygments_lexer": "ipython3",
      "version": "3.12.3"
    }
  },
  "nbformat": 4,
  "nbformat_minor": 4
}
